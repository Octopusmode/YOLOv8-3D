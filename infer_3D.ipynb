{
 "cells": [
  {
   "cell_type": "code",
   "execution_count": 12,
   "id": "initial_id",
   "metadata": {
    "collapsed": true,
    "ExecuteTime": {
     "end_time": "2024-02-06T12:51:22.359901300Z",
     "start_time": "2024-02-06T12:51:22.347651300Z"
    }
   },
   "outputs": [],
   "source": [
    "# ultralytics venv\n",
    "import onnxruntime\n",
    "import cv2\n",
    "import numpy as np\n",
    "import matplotlib.pyplot as plt\n",
    "import time\n",
    "from pathlib import Path\n",
    "\n",
    "from ultralytics import YOLO"
   ]
  },
  {
   "cell_type": "code",
   "outputs": [
    {
     "data": {
      "text/plain": "['unk__633', 224, 224, 3]"
     },
     "execution_count": 13,
     "metadata": {},
     "output_type": "execute_result"
    }
   ],
   "source": [
    "# Загрузка весов регрессора в формате ONNX\n",
    "regressor = onnxruntime.InferenceSession(r\"M:\\dev\\veh3d\\vehicle_3D\\YOLOv8-3D\\mobilenet_3d.onnx\")\n",
    "regressor.get_inputs()[0].shape"
   ],
   "metadata": {
    "collapsed": false,
    "ExecuteTime": {
     "end_time": "2024-02-06T12:51:24.717230500Z",
     "start_time": "2024-02-06T12:51:24.645709400Z"
    }
   },
   "id": "2b288ef3bd6fff1d",
   "execution_count": 13
  },
  {
   "cell_type": "code",
   "outputs": [
    {
     "data": {
      "text/plain": "['unk__633', 224, 224, 3]"
     },
     "execution_count": 11,
     "metadata": {},
     "output_type": "execute_result"
    }
   ],
   "source": [],
   "metadata": {
    "collapsed": false,
    "ExecuteTime": {
     "end_time": "2024-02-06T12:51:10.854905200Z",
     "start_time": "2024-02-06T12:51:10.840174400Z"
    }
   },
   "id": "2701864e71895730",
   "execution_count": 11
  },
  {
   "cell_type": "code",
   "outputs": [],
   "source": [],
   "metadata": {
    "collapsed": false
   },
   "id": "788f63755dbb84a8"
  }
 ],
 "metadata": {
  "kernelspec": {
   "name": "tf210",
   "language": "python",
   "display_name": "tf210"
  },
  "language_info": {
   "codemirror_mode": {
    "name": "ipython",
    "version": 2
   },
   "file_extension": ".py",
   "mimetype": "text/x-python",
   "name": "python",
   "nbconvert_exporter": "python",
   "pygments_lexer": "ipython2",
   "version": "2.7.6"
  }
 },
 "nbformat": 4,
 "nbformat_minor": 5
}
